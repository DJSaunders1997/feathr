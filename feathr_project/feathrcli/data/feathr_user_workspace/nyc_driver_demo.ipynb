{
 "cells": [
  {
   "cell_type": "markdown",
   "metadata": {},
   "source": [
    "# Feathr Feature Store on Azure Demo Notebook\n",
    "\n",
    "This notebook illustrates the use of Feature Store to create a model that predicts NYC Taxi fares. It includes these steps:\n",
    "\n",
    "- Compute and write features.\n",
    "- Train a model using these features to predict fares.\n",
    "- Evaluate that model on a new batch of data using existing features, saved to Feature Store.\n",
    "\n",
    "\n",
    "Note that this is from a real world dataset which demonstrate the power of `Feathr` to deal with a real world use cases. The feature flow is as below:\n",
    "![Feature Flow](https://github.com/linkedin/feathr/blob/main/docs/images/feature_flow.png?raw=true)\n",
    "\n",
    "And the architecture is as below:\n",
    "![Architecture](https://github.com/linkedin/feathr/blob/main/docs/images/architecture.png?raw=true)"
   ]
  },
  {
   "cell_type": "markdown",
   "metadata": {},
   "source": [
    "First, let's explore the dataset:\n"
   ]
  },
  {
   "cell_type": "code",
   "execution_count": 1,
   "metadata": {},
   "outputs": [
    {
     "ename": "ModuleNotFoundError",
     "evalue": "No module named 'pandas'",
     "output_type": "error",
     "traceback": [
      "\u001b[0;31m---------------------------------------------------------------------------\u001b[0m",
      "\u001b[0;31mModuleNotFoundError\u001b[0m                       Traceback (most recent call last)",
      "Input \u001b[0;32mIn [1]\u001b[0m, in \u001b[0;36m<cell line: 1>\u001b[0;34m()\u001b[0m\n\u001b[0;32m----> 1\u001b[0m \u001b[38;5;28;01mimport\u001b[39;00m \u001b[38;5;21;01mpandas\u001b[39;00m \u001b[38;5;28;01mas\u001b[39;00m \u001b[38;5;21;01mpd\u001b[39;00m\n\u001b[1;32m      2\u001b[0m \u001b[38;5;28;01mimport\u001b[39;00m \u001b[38;5;21;01mjson\u001b[39;00m\n\u001b[1;32m      3\u001b[0m pd\u001b[38;5;241m.\u001b[39mread_csv(\u001b[38;5;124m'\u001b[39m\u001b[38;5;124mmockdata/feathrazuretest3fs@feathrazuretest3storage.dfs.core.windows.net/demo_data/green_tripdata_2020-04.csv\u001b[39m\u001b[38;5;124m'\u001b[39m)\n",
      "\u001b[0;31mModuleNotFoundError\u001b[0m: No module named 'pandas'"
     ]
    }
   ],
   "source": [
    "import pandas as pd\n",
    "import json\n",
    "pd.read_csv('mockdata/feathrazuretest3fs@feathrazuretest3storage.dfs.core.windows.net/demo_data/green_tripdata_2020-04.csv')"
   ]
  },
  {
   "cell_type": "markdown",
   "metadata": {},
   "source": [
    "Basically we want to predict the fares for each driver. "
   ]
  },
  {
   "cell_type": "markdown",
   "metadata": {},
   "source": [
    "# Feature Engineering with Feathr:\n",
    "- Duration of trip\n",
    "- Feature Engineering: Instead of using the raw datetime like `2021-01-01 00:15:56`, we want to feature engineering with customzied features, for exmaple we want to use the days of the week, the days of the months, etc. as the features."
   ]
  },
  {
   "cell_type": "markdown",
   "metadata": {},
   "source": [
    "Setup neccessary environment variables first."
   ]
  },
  {
   "cell_type": "code",
   "execution_count": null,
   "metadata": {},
   "outputs": [],
   "source": [
    "# Install feathr if haven't installed\n",
    "! pip install -U feathr scikit-learn"
   ]
  },
  {
   "cell_type": "markdown",
   "metadata": {},
   "source": [
    "Doing those transformations with Feathr is very straightforward. We only need to define features in Python:"
   ]
  },
  {
   "cell_type": "code",
   "execution_count": null,
   "metadata": {},
   "outputs": [],
   "source": [
    "from feathr.anchor import FeatureAnchor\n",
    "from feathr.feature import Feature\n",
    "from feathr.dtype import BOOLEAN, INT32, FLOAT, ValueType\n",
    "from feathr.feature_derivations import DerivedFeature\n",
    "from feathr.source import PASSTHROUGH_SOURCE\n",
    "\n",
    "f_trip_distance = Feature(name=\"f_trip_distance\", feature_type=FLOAT, transform=\"trip_distance\")\n",
    "f_trip_time_duration = Feature(name=\"f_trip_time_duration\",\n",
    "            feature_type=INT32,\n",
    "            transform=\"time_duration(lpep_pickup_datetime, lpep_dropoff_datetime, 'minutes')\")\n",
    "\n",
    "features = [\n",
    "    f_trip_distance,\n",
    "    f_trip_time_duration,\n",
    "    Feature(name=\"f_is_long_trip_distance\",\n",
    "            feature_type=BOOLEAN,\n",
    "            transform=\"cast_float(trip_distance)>30\"),\n",
    "    Feature(name=\"f_day_of_week\",\n",
    "            feature_type=INT32,\n",
    "            transform=\"dayofweek(lpep_dropoff_datetime)\"),\n",
    "  ]\n",
    "\n",
    "request_anchor = FeatureAnchor(name=\"request_features\",\n",
    "                source=PASSTHROUGH_SOURCE,\n",
    "                features=features)\n",
    "\n",
    "\n",
    "f_trip_time_distance = DerivedFeature(name=\"f_trip_time_distance\",\n",
    "                feature_type=FLOAT,\n",
    "                input_features=[f_trip_distance, f_trip_time_duration],\n",
    "                transform=\"f_trip_distance * f_trip_time_duration\")\n"
   ]
  },
  {
   "cell_type": "code",
   "execution_count": null,
   "metadata": {},
   "outputs": [],
   "source": [
    "import os\n",
    "from feathr import FeathrClient\n",
    "from feathr.dtype import ValueType\n",
    "from feathr.typed_key import TypedKey\n",
    "from feathr.client import FeathrClient\n",
    "from feathr.job_utils import get_result_df\n",
    "from feathr.query_feature_list import FeatureQuery\n",
    "from feathr.settings import ObservationSettings\n",
    "from math import sqrt\n",
    "import tempfile\n",
    "import pandas as pd\n",
    "from sklearn.linear_model import LinearRegression\n",
    "import glob, os\n",
    "from sklearn.metrics import mean_squared_error\n",
    "from sklearn.model_selection import train_test_split   "
   ]
  },
  {
   "cell_type": "code",
   "execution_count": null,
   "metadata": {},
   "outputs": [],
   "source": [
    "os.environ['REDIS_PASSWORD'] = ''\n",
    "os.environ['AZURE_CLIENT_ID'] = ''\n",
    "os.environ['AZURE_TENANT_ID'] = ''\n",
    "os.environ['AZURE_CLIENT_SECRET'] = ''"
   ]
  },
  {
   "cell_type": "markdown",
   "metadata": {},
   "source": [
    "Then we will initialize a feathr client:"
   ]
  },
  {
   "cell_type": "code",
   "execution_count": null,
   "metadata": {},
   "outputs": [],
   "source": [
    "client = FeathrClient()"
   ]
  },
  {
   "cell_type": "markdown",
   "metadata": {},
   "source": [
    "We can register the features to a feature registry with Purview (optional):"
   ]
  },
  {
   "cell_type": "code",
   "execution_count": null,
   "metadata": {},
   "outputs": [],
   "source": [
    "client.register_features()"
   ]
  },
  {
   "cell_type": "markdown",
   "metadata": {},
   "source": [
    "Preparing a training dataset by getting offline features for the input observation data:"
   ]
  },
  {
   "cell_type": "code",
   "execution_count": null,
   "metadata": {},
   "outputs": [],
   "source": [
    "location_id = TypedKey(key_column=\"DOLocationID\",\n",
    "                key_column_type=ValueType.INT32, \n",
    "                description=\"location id in NYC\",\n",
    "                full_name=\"nyc_taxi.location_id\")\n",
    "\n",
    "location_features = FeatureQuery(feature_list=[\"f_location_avg_fare\", \"f_location_max_fare\"], key=location_id)\n",
    "request_features = FeatureQuery(feature_list=[\"f_trip_time_distance\", \"f_trip_distance\", \"f_trip_time_duration\",\n",
    "                                              \"f_is_long_trip_distance\", \"f_day_of_week\"], key=location_id) \n",
    "settings = ObservationSettings(\n",
    "    observation_path=\"abfss://feathrazuretest3fs@feathrazuretest3storage.dfs.core.windows.net/demo_data/green_tripdata_2020-04.csv\",\n",
    "    event_timestamp_column=\"lpep_dropoff_datetime\",\n",
    "    timestamp_format=\"yyyy-MM-dd HH:mm:ss\")\n",
    "\n",
    "client.get_offline_features(observation_settings=settings,\n",
    "    feature_query=[location_features, request_features],\n",
    "    output_path=\"abfss://feathrazuretest3fs@feathrazuretest3storage.dfs.core.windows.net/demo_data/output.avro\")\n"
   ]
  },
  {
   "cell_type": "markdown",
   "metadata": {},
   "source": [
    "The result is also availble in the cloud"
   ]
  },
  {
   "cell_type": "markdown",
   "metadata": {},
   "source": [
    "After getting all the features, let's train a model:"
   ]
  },
  {
   "cell_type": "code",
   "execution_count": null,
   "metadata": {},
   "outputs": [],
   "source": [
    "res_url = client.get_job_result_uri(block=True,timeout_sec=500)\n",
    "\n",
    "tmp_dir = tempfile.TemporaryDirectory()\n",
    "client.feathr_spark_laucher.download_result(result_path = res_url, local_folder=tmp_dir.name)\n",
    "dataframe_list = []\n",
    "# assuming the result are in avro format\n",
    "for file in glob.glob(os.path.join(tmp_dir.name, \"*.avro\")):\n",
    "    dataframe_list.append(pdx.read_avro(file))\n",
    "vertical_concat_df = pd.concat(dataframe_list, axis=0)\n",
    "tmp_dir.cleanup()\n",
    "df_res = vertical_concat_df.copy()\n",
    "df_res"
   ]
  },
  {
   "cell_type": "code",
   "execution_count": null,
   "metadata": {},
   "outputs": [],
   "source": [
    "# keep only columns of interest\n",
    "final_df = df_res[['fare_amount', 'passenger_count', \"f_trip_distance\", \"f_is_long_trip_distance\", \"f_day_of_week\",\"f_trip_time_duration\", \"f_location_avg_fare\", \"f_trip_time_distance\"]]\n",
    "final_df.fillna(0, inplace=True)\n",
    "final_df['fare_amount'] = final_df['fare_amount'].astype(\"float64\")\n",
    "\n",
    "\n",
    "train_x, test_x, train_y, test_y = train_test_split(final_df.drop([\"fare_amount\"], axis=1),\n",
    "                                                    final_df[\"fare_amount\"],\n",
    "                                                    test_size=0.2,\n",
    "                                                    random_state=42)\n",
    "\n",
    "model = LinearRegression()\n",
    "model.fit(train_x, train_y)\n",
    "\n",
    "y_predict = model.predict(test_x) \n",
    "\n",
    "y_actual = test_y.values.flatten().tolist() \n",
    "rmse = sqrt(mean_squared_error(y_actual, y_predict))\n",
    "\n",
    "sum_actuals = sum_errors = 0\n",
    "\n",
    "for actual_val, predict_val in zip(y_actual, y_predict):\n",
    "    abs_error = actual_val - predict_val\n",
    "    if abs_error < 0:\n",
    "        abs_error = abs_error * -1\n",
    "\n",
    "    sum_errors = sum_errors + abs_error\n",
    "    sum_actuals = sum_actuals + actual_val\n",
    "\n",
    "mean_abs_percent_error = sum_errors / sum_actuals\n",
    "print(\"Model MAPE:\")\n",
    "print(mean_abs_percent_error)\n",
    "print()\n",
    "print(\"Model Accuracy:\")\n",
    "print(1 - mean_abs_percent_error)"
   ]
  },
  {
   "cell_type": "markdown",
   "metadata": {},
   "source": [
    "We now want to push the generated features to the online store, so we configure the destination in the feature_gen config:\n",
    "\n",
    "```python\n",
    "operational: {\n",
    "  name: generateWithDefaultParams\n",
    "  endTime: 2022-01-02\n",
    "  endTimeFormat: \"yyyy-MM-dd\"\n",
    "  resolution: DAILY\n",
    "  output:[{\n",
    "                name: REDIS\n",
    "                params: {\n",
    "                  table_name: \"nycTaxiFeatures\"\n",
    "                }\n",
    "             }]\n",
    "}\n",
    "features: [f_location_avg_fare, f_location_max_fare]\n",
    "```"
   ]
  },
  {
   "cell_type": "code",
   "execution_count": null,
   "metadata": {},
   "outputs": [],
   "source": [
    "job_res = client.materialize_features()\n",
    "\n",
    "res_url = client.wait_job_to_finish(timeout_sec=300)"
   ]
  },
  {
   "cell_type": "markdown",
   "metadata": {},
   "source": [
    "We can then get the features from the online store (Redis):"
   ]
  },
  {
   "cell_type": "code",
   "execution_count": null,
   "metadata": {},
   "outputs": [],
   "source": [
    "client.get_online_features(\"nycTaxiDemoFeature\", \"265\", ['f_location_avg_fare', 'f_location_max_fare'])\n"
   ]
  },
  {
   "cell_type": "code",
   "execution_count": null,
   "metadata": {},
   "outputs": [],
   "source": [
    "client.multi_get_online_features(\"nycTaxiDemoFeature\", [\"239\", \"265\"], ['f_location_avg_fare', 'f_location_max_fare'])"
   ]
  },
  {
   "cell_type": "code",
   "execution_count": null,
   "metadata": {},
   "outputs": [],
   "source": [
    "client.list_registered_features(project_name=\"frame_getting_started\")"
   ]
  }
 ],
 "metadata": {
  "interpreter": {
   "hash": "830c16c5b424e7ff512f67d4056b67cea1a756a7ad6a92c98b9e2b95c5e484ae"
  },
  "kernelspec": {
   "display_name": "Python 3",
   "language": "python",
   "name": "python3"
  },
  "language_info": {
   "codemirror_mode": {
    "name": "ipython",
    "version": 3
   },
   "file_extension": ".py",
   "mimetype": "text/x-python",
   "name": "python",
   "nbconvert_exporter": "python",
   "pygments_lexer": "ipython3",
   "version": "3.9.10"
  }
 },
 "nbformat": 4,
 "nbformat_minor": 2
}
